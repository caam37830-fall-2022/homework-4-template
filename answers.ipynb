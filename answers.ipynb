{
 "cells": [
  {
   "cell_type": "markdown",
   "metadata": {},
   "source": [
    "# Answers\n",
    "\n",
    "You can edit this Jupyter notebook to include your answers and run any code that generates those answers or produces plots.  You can add additional cells for code or markdown as needed. This homework is primarily about having fun with interpolation. If any question is unclear, or there are any typos, let us know!"
   ]
  },
  {
   "cell_type": "markdown",
   "metadata": {},
   "source": [
    "## Problem 0 (20 points)\n",
    "\n",
    "In this problem you will play around with interpolation using the monomial basis.\n",
    "\n",
    "### Part A (5 points)\n",
    "\n",
    "Given a collection of $N$ points $x_0,\\dots,x_{N-1}$ we can define the *Vandermonde* matrix $V$ by\n",
    "$$V_{i,j} = x_i^j$$\n",
    "where $j$ goes from $0$ to $M-1$ and $i$ goes from $0$ to $N-1.$ The first column should consist of ones. Construct a function which takes in a collection of points $x_0,\\dots,x_{N-1}$ stored as a numpy array, and an integer $M$, and outputs the corresponding Vandermonde matrix. \n",
    "\n",
    "*Your answer here.  You can create some code cells as well*"
   ]
  },
  {
   "cell_type": "markdown",
   "metadata": {},
   "source": [
    "### Part B (5 points)\n",
    "\n",
    "Suppose we are given a function $f$ defined by\n",
    "$$f(x) := c_0 x^0 +c_1 x^1 +\\cdots +c_{3} x^{3}.$$\n",
    "Let's sample it at four points $x=-1/2,$ $x=1/3,$ $x=1/2,$ and $x=1.$ When we do this, we will get values (of $f$) $f_0$, $f_1,$ $f_2,$ and $f_3.$ Write a linear system relating the coefficients $c_0,c_1,c_2,c_3$ in terms of the samples $f_0,$ $f_1,$ $f_2,$ $f_3.$\n",
    "\n",
    "Then, generalize this result using Vandermonde matrices: write down an expression for the linear system relating the coefficients $c_0,c_1,\\dots,c_{M-1}$ with the sample values $f_0,f_1,\\dots,f_{N-1}.$ \n",
    "\n",
    "---\n",
    "\n",
    "*Your answer here.  You can create some code cells as well*"
   ]
  },
  {
   "cell_type": "markdown",
   "metadata": {},
   "source": [
    "### Part C (5 points)\n",
    "\n",
    "\n",
    "Taking equispaced samples on the interval $[-1,1],$ compute the condition number of the Vandermonde matrix for various values of $N$ and $M$ (number of samples and number of polynomials, respectively).  Here you should take $N \\ge M.$ For the square case ($N=M$), can you find the rough behavior of the condition number as a function of $N$? Numpy has a condition number routine \"numpy.linalg.cond\" which might help. For plotting inspiration, you can use a similar plot that we used for the agent-based modeling unit (play around with log scaling to make the plots more informative).\n",
    "\n",
    "---\n",
    "\n",
    "*Your answer here.  You can create some code cells as well*\n"
   ]
  },
  {
   "cell_type": "markdown",
   "metadata": {},
   "source": [
    "### Part D (5 points)\n",
    "\n",
    "Compute the error in evaluating $f(x) = \\exp(x)$ at $x=1/\\pi$ by interpolating from $N$ points on $[-1,1]$ onto the first $M$ monomials, i.e. using the results of Part B. Do this by first finding the coefficients $c_0,\\dots,c_{M-1}$ and then evaluating the sum $c_0 x^0+ \\dots c_{M-1} x^{M-1}$ at $x=1/\\pi.$\n",
    "\n",
    "---\n",
    "\n",
    "*Your answer here.  You can create some code cells as well*"
   ]
  },
  {
   "cell_type": "markdown",
   "metadata": {},
   "source": [
    "## Problem 1 (30 points)\n",
    "\n",
    "### Part A (10 points)\n",
    "\n",
    "Redo Part A through D of Problem 0 with the the functions $1,\\cos(\\pi x), \\sin(\\pi x), \\cos(2 \\pi x), \\sin(2\\pi x),\\cos(3 \\pi x), \\sin(3 \\pi x), \\dots, \\cos( M \\pi x), \\sin ( M \\pi x).$ \n",
    "\n",
    "In place of the Vandermonde matrix, consider the matrix $V$ with $V_{i,j} = \\phi_j(x_i),$ where the $\\phi_j$'s are the collection of cosine and sine functions given above. In this case, when using equispaced points, include the $x=-1$ endpoint but not the other ($x=1$) in your sample points.\n",
    "\n",
    "---\n",
    "\n",
    "*Your answer here.  You can create some code cells as well*"
   ]
  },
  {
   "cell_type": "markdown",
   "metadata": {},
   "source": [
    "### Part B (10 points)\n",
    "\n",
    "Legendre polynomials are another frequently encountered family of polynomials used for interpolation. Repeat Part A through D of Problem 0 using a Legendre basis. Hint: look at the routines in \"numpy.legendre\", particularly \"numpy.legendre.legvander\" and numpy.\"legendre.legval\".\n",
    "\n",
    "---\n",
    "\n",
    "*Your answer here.  You can create some code cells as well*"
   ]
  },
  {
   "cell_type": "markdown",
   "metadata": {},
   "source": [
    "### Part C (10 points)\n",
    "\n",
    "\n",
    "Redo the condition number and interpolation plots for the Chebyshev nodes obtained in class. Here you should set scale = 1 (i.e. they should be on the interval $[-1,1]$).\n",
    "\n",
    "---\n",
    "\n",
    "*Your answer here.  You can create some code cells as well*"
   ]
  },
  {
   "cell_type": "markdown",
   "metadata": {},
   "source": [
    "## Problem 2 (20 points)\n",
    "\n",
    "This problem is designed to build some familiarity with barycentric interpolation.\n",
    "\n",
    "### Part A (10 points)\n",
    "\n",
    "Carefully read the first 5 pages of https://people.maths.ox.ac.uk/trefethen/barycentric.pdf.\n",
    "\n",
    "---\n",
    "\n",
    "*Your answer here.  You can create some code cells as well*"
   ]
  },
  {
   "cell_type": "markdown",
   "metadata": {},
   "source": [
    "### Part B (10 points)\n",
    "\n",
    "Implement equation (4.2) for equispaced and Chebyshev points. Check the accuracy of interpolationg $\\exp(x)$ at $x= 1/\\pi.$ \n",
    "\n",
    "---\n",
    "\n",
    "*Your answer here.  You can create some code cells as well*"
   ]
  },
  {
   "cell_type": "markdown",
   "metadata": {},
   "source": [
    "## Feedback\n",
    "\n",
    "If you would like share how long it took you to complete this assignment, it will help adjust the difficulty for future assignments.  You're welcome to share additional feedback as well."
   ]
  },
  {
   "cell_type": "code",
   "execution_count": null,
   "metadata": {},
   "outputs": [],
   "source": []
  },
  {
   "cell_type": "code",
   "execution_count": null,
   "metadata": {},
   "outputs": [],
   "source": []
  }
 ],
 "metadata": {
  "kernelspec": {
   "display_name": "Python 3 (ipykernel)",
   "language": "python",
   "name": "python3"
  },
  "language_info": {
   "codemirror_mode": {
    "name": "ipython",
    "version": 3
   },
   "file_extension": ".py",
   "mimetype": "text/x-python",
   "name": "python",
   "nbconvert_exporter": "python",
   "pygments_lexer": "ipython3",
   "version": "3.8.5"
  }
 },
 "nbformat": 4,
 "nbformat_minor": 4
}
